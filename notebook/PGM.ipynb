{
 "cells": [
  {
   "cell_type": "code",
   "execution_count": 1,
   "metadata": {
    "collapsed": false
   },
   "outputs": [
    {
     "name": "stdout",
     "output_type": "stream",
     "text": [
      "Collecting pgmpy\n",
      "  Downloading pgmpy-0.1.2.tar.gz (147kB)\n",
      "\u001b[K    100% |████████████████████████████████| 153kB 5.9MB/s \n",
      "\u001b[?25hRequirement already satisfied (use --upgrade to upgrade): networkx>=1.8.1 in /opt/conda/lib/python3.5/site-packages (from pgmpy)\n",
      "Requirement already satisfied (use --upgrade to upgrade): scipy>=0.12.1 in /opt/conda/lib/python3.5/site-packages (from pgmpy)\n",
      "Requirement already satisfied (use --upgrade to upgrade): numpy>=1.7.0 in /opt/conda/lib/python3.5/site-packages (from pgmpy)\n",
      "Requirement already satisfied (use --upgrade to upgrade): nose>=1.3.0 in /opt/conda/lib/python3.5/site-packages (from pgmpy)\n",
      "Collecting coveralls>=0.4 (from pgmpy)\n",
      "  Downloading coveralls-1.1-py2.py3-none-any.whl\n",
      "Requirement already satisfied (use --upgrade to upgrade): decorator>=3.4.0 in /opt/conda/lib/python3.5/site-packages (from networkx>=1.8.1->pgmpy)\n",
      "Collecting docopt>=0.6.1 (from coveralls>=0.4->pgmpy)\n",
      "  Downloading docopt-0.6.2.tar.gz\n",
      "Collecting coverage>=3.6 (from coveralls>=0.4->pgmpy)\n",
      "  Downloading coverage-4.3.4-cp35-cp35m-manylinux1_x86_64.whl (191kB)\n",
      "\u001b[K    100% |████████████████████████████████| 194kB 4.7MB/s \n",
      "\u001b[?25hRequirement already satisfied (use --upgrade to upgrade): requests>=1.0.0 in /opt/conda/lib/python3.5/site-packages (from coveralls>=0.4->pgmpy)\n",
      "Building wheels for collected packages: pgmpy, docopt\n",
      "  Running setup.py bdist_wheel for pgmpy ... \u001b[?25l-\b \b\\\b \b|\b \bdone\n",
      "\u001b[?25h  Stored in directory: /home/jovyan/.cache/pip/wheels/d3/21/0f/5b1fc282ee2ab16b693c1a0ed9cb8fde44dbaa28d907c90ff4\n",
      "  Running setup.py bdist_wheel for docopt ... \u001b[?25l-\b \b\\\b \bdone\n",
      "\u001b[?25h  Stored in directory: /home/jovyan/.cache/pip/wheels/b2/16/5f/c33a2bb5f2dce71205f8e65cbfd05647d79d441282be31fd82\n",
      "Successfully built pgmpy docopt\n",
      "Installing collected packages: docopt, coverage, coveralls, pgmpy\n",
      "Successfully installed coverage-4.3.4 coveralls-1.1 docopt-0.6.2 pgmpy-0.1.2\n",
      "\u001b[33mYou are using pip version 8.1.2, however version 9.0.1 is available.\n",
      "You should consider upgrading via the 'pip install --upgrade pip' command.\u001b[0m\n"
     ]
    }
   ],
   "source": [
    "!pip install pgmpy\n"
   ]
  },
  {
   "cell_type": "code",
   "execution_count": 16,
   "metadata": {
    "collapsed": true
   },
   "outputs": [],
   "source": [
    "from pgmpy.factors import TabularCPD"
   ]
  },
  {
   "cell_type": "code",
   "execution_count": 17,
   "metadata": {
    "collapsed": false
   },
   "outputs": [],
   "source": [
    "grade_cpd = TabularCPD(variable=\"G\",\n",
    "    variable_card=3,\n",
    "    values=[[0.3, 0.05, 0.9, 0.5],\n",
    "    [0.4, 0.25, 0.08, 0.3],\n",
    "    [0.3, 0.7, 0.02, 0.2]],\n",
    "    evidence=[\"I\", \"D\"],\n",
    "    evidence_card=[2, 2])"
   ]
  },
  {
   "cell_type": "code",
   "execution_count": 18,
   "metadata": {
    "collapsed": false
   },
   "outputs": [],
   "source": [
    "from pgmpy.models import BayesianModel\n",
    "from pgmpy.factors import TabularCPD\n",
    "student_model = BayesianModel([(\"D\", \"G\"),\n",
    "(\"I\", \"G\"),\n",
    "(\"G\", \"L\"),\n",
    "(\"I\", \"S\")])\n",
    "grade_cpd = TabularCPD(\n",
    "variable=\"G\",\n",
    "variable_card=3,\n",
    "values=[[0.3, 0.05, 0.9, 0.5],\n",
    "[0.4, 0.25, 0.08, 0.3],\n",
    "[0.3, 0.7, 0.02, 0.2]],\n",
    "evidence=[\"I\", \"D\"],\n",
    "evidence_card=[2, 2])\n",
    "difficulty_cpd = TabularCPD(\n",
    "variable=\"D\",\n",
    "variable_card=2,\n",
    "values=[[0.6, 0.4]])\n",
    "intel_cpd = TabularCPD(\n",
    "variable=\"I\",\n",
    "variable_card=2,\n",
    "values=[[0.7, 0.3]])\n",
    "letter_cpd = TabularCPD(\n",
    "variable=\"L\",\n",
    "variable_card=2,\n",
    "values=[[0.1, 0.4, 0.99],\n",
    "[0.9, 0.6, 0.01]],\n",
    "evidence=[\"G\"],\n",
    "evidence_card=[3])\n",
    "sat_cpd = TabularCPD(\n",
    "variable=\"S\",\n",
    "variable_card=2,\n",
    "values=[[0.95, 0.2],\n",
    "[0.05, 0.8]],\n",
    "evidence=[\"I\"],\n",
    "evidence_card=[2])\n",
    "student_model.add_cpds(grade_cpd, difficulty_cpd,\n",
    "intel_cpd, letter_cpd,\n",
    "sat_cpd)"
   ]
  },
  {
   "cell_type": "code",
   "execution_count": 19,
   "metadata": {
    "collapsed": false
   },
   "outputs": [
    {
     "data": {
      "text/plain": [
       "[<TabularCPD representing P(G:3 | I:2, D:2) at 0x7fe89eb14898>,\n",
       " <TabularCPD representing P(D:2) at 0x7fe89eb14908>,\n",
       " <TabularCPD representing P(I:2) at 0x7fe89eb03198>,\n",
       " <TabularCPD representing P(L:2 | G:3) at 0x7fe89eb149b0>,\n",
       " <TabularCPD representing P(S:2 | I:2) at 0x7fe89eb148d0>]"
      ]
     },
     "execution_count": 19,
     "metadata": {},
     "output_type": "execute_result"
    }
   ],
   "source": [
    "student_model.get_cpds()\n"
   ]
  },
  {
   "cell_type": "code",
   "execution_count": 21,
   "metadata": {
    "collapsed": false
   },
   "outputs": [
    {
     "data": {
      "text/plain": [
       "[<TabularCPD representing P(G:2 | I:2, D:2) at 0x7fe89eb14048>,\n",
       " <TabularCPD representing P(I:2) at 0x7fe89eb14470>,\n",
       " <TabularCPD representing P(L:2 | G:2) at 0x7fe89eb14400>,\n",
       " <TabularCPD representing P(D:2) at 0x7fe89eb147b8>,\n",
       " <TabularCPD representing P(S:2 | I:2) at 0x7fe89eb14080>]"
      ]
     },
     "execution_count": 21,
     "metadata": {},
     "output_type": "execute_result"
    }
   ],
   "source": [
    "from pgmpy.models import BayesianModel\n",
    "import pandas as pd\n",
    "import numpy as np\n",
    "# Considering that each variable have only 2 states,\n",
    "# we can generate some random data.\n",
    "raw_data = np.random.randint(low=0,\n",
    "high=2,\n",
    "size=(1000, 5))\n",
    "data = pd.DataFrame(raw_data,\n",
    "columns=[\"D\", \"I\", \"G\",\n",
    "\"L\", \"S\"])\n",
    "data_train = data[: int(data.shape[0] * 0.75)]\n",
    "student_model = BayesianModel([(\"D\", \"G\"),\n",
    "(\"I\", \"G\"),\n",
    "(\"I\", \"S\"),\n",
    "(\"G\", \"L\")])\n",
    "student_model.fit(data_train)\n",
    "student_model.get_cpds()"
   ]
  },
  {
   "cell_type": "code",
   "execution_count": 26,
   "metadata": {
    "collapsed": false
   },
   "outputs": [
    {
     "data": {
      "text/html": [
       "<table><caption>TabularCPD for <b>L</b></caption><tr><td><b>G</b></td><td colspan=1>G_0</td><td colspan=1>G_1</td></tr><tr><td><b>L_0</b></td><td>0.4683</td><td>0.4812</td></tr><tr><td><b>L_1</b></td><td>0.5317</td><td>0.5188</td></tr></table>"
      ],
      "text/plain": [
       "<TabularCPD representing P(L:2 | G:2) at 0x7fe89eb14400>"
      ]
     },
     "execution_count": 26,
     "metadata": {},
     "output_type": "execute_result"
    }
   ],
   "source": [
    "student_model.get_cpds('L')"
   ]
  },
  {
   "cell_type": "code",
   "execution_count": null,
   "metadata": {
    "collapsed": true
   },
   "outputs": [],
   "source": []
  }
 ],
 "metadata": {
  "kernelspec": {
   "display_name": "Python 3",
   "language": "python",
   "name": "python3"
  },
  "language_info": {
   "codemirror_mode": {
    "name": "ipython",
    "version": 3
   },
   "file_extension": ".py",
   "mimetype": "text/x-python",
   "name": "python",
   "nbconvert_exporter": "python",
   "pygments_lexer": "ipython3",
   "version": "3.5.2"
  }
 },
 "nbformat": 4,
 "nbformat_minor": 2
}
