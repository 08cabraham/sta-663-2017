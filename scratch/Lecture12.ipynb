{
 "cells": [
  {
   "cell_type": "markdown",
   "metadata": {},
   "source": [
    "# Using `pybind11`\n",
    "\n",
    "The package `pybind11` is provides an elegant way to wrap C++ code for Python, including automatic conversions for `numpy` arrays and the C++ `Eigen` linear algebra library. Used with the `cppimport` package, this provides a very nice work flow for integrating C++ and Python:\n",
    "\n",
    "- Edit C++ code\n",
    "- Run Python code\n",
    "\n",
    "```bash\n",
    "pip install pybind11\n",
    "pip install cppimport\n",
    "```\n",
    "\n",
    "Clone the Eigen library - no installation is required as Eigen is a header only library.\n",
    "\n",
    "```\n",
    "hg clone https://bitbucket.org/eigen/eigen/\n",
    "```"
   ]
  },
  {
   "cell_type": "markdown",
   "metadata": {},
   "source": [
    "## Resources\n",
    "\n",
    "- [`pybind11`](http://pybind11.readthedocs.io/en/latest/)\n",
    "- [`cppimport`](https://github.com/tbenthompson/cppimport)\n",
    "- [`Eigen`](http://eigen.tuxfamily.org)"
   ]
  },
  {
   "cell_type": "markdown",
   "metadata": {},
   "source": [
    "## A first example of using `pybind11`\n",
    "\n",
    "Create a new subdirectory - e.g. `example1` and create the following 5 files in it:\n",
    "\n",
    "- `funcs.hpp`\n",
    "- `funcs.cpp`\n",
    "- `wrap.cpp`\n",
    "- `setup.py`\n",
    "- `test_funcs.py`"
   ]
  },
  {
   "cell_type": "markdown",
   "metadata": {},
   "source": [
    "First write the C++ header and implementation files"
   ]
  },
  {
   "cell_type": "code",
   "execution_count": 1,
   "metadata": {
    "collapsed": false
   },
   "outputs": [
    {
     "name": "stdout",
     "output_type": "stream",
     "text": [
      "/Users/cliburn/git-teach/sta-663-2017-public/scratch/example1\n"
     ]
    }
   ],
   "source": [
    "%mkdir example1\n",
    "%cd example1"
   ]
  },
  {
   "cell_type": "code",
   "execution_count": 2,
   "metadata": {
    "collapsed": false
   },
   "outputs": [
    {
     "name": "stdout",
     "output_type": "stream",
     "text": [
      "Writing funcs.hpp\n"
     ]
    }
   ],
   "source": [
    "%%file funcs.hpp\n",
    "\n",
    "int add(int i, int j);"
   ]
  },
  {
   "cell_type": "code",
   "execution_count": 3,
   "metadata": {
    "collapsed": false
   },
   "outputs": [
    {
     "name": "stdout",
     "output_type": "stream",
     "text": [
      "Writing funcs.cpp\n"
     ]
    }
   ],
   "source": [
    "%%file funcs.cpp\n",
    "\n",
    "int add(int i, int j) {\n",
    "    return i + j;\n",
    "};"
   ]
  },
  {
   "cell_type": "markdown",
   "metadata": {},
   "source": [
    "Next write the C++ wrapper code using `pybind11` in `wrap.cpp`. The arguments `\"i\"_a=1, \"j\"_a=2` in the exported function definition tells `pybind11` to generate variables named `i` with default value 1 and `j` with default value 2 for the `add` function."
   ]
  },
  {
   "cell_type": "code",
   "execution_count": 4,
   "metadata": {
    "collapsed": false
   },
   "outputs": [
    {
     "name": "stdout",
     "output_type": "stream",
     "text": [
      "Writing wrap.cpp\n"
     ]
    }
   ],
   "source": [
    "%%file wrap.cpp\n",
    "#include <pybind11/pybind11.h>\n",
    "#include \"funcs.hpp\"\n",
    "\n",
    "namespace py = pybind11;\n",
    "\n",
    "using namespace pybind11::literals;\n",
    "\n",
    "PYBIND11_PLUGIN(wrap) {\n",
    "    py::module m(\"wrap\", \"pybind11 example plugin\");\n",
    "    m.def(\"add\", &add, \"A function which adds two numbers\",\n",
    "          \"i\"_a=1, \"j\"_a=2);\n",
    "    return m.ptr();\n",
    "}"
   ]
  },
  {
   "cell_type": "markdown",
   "metadata": {},
   "source": [
    "Finally, write the `setup.py` file to compile the extension module. This is mostly boilerplate."
   ]
  },
  {
   "cell_type": "code",
   "execution_count": 5,
   "metadata": {
    "collapsed": false
   },
   "outputs": [
    {
     "name": "stdout",
     "output_type": "stream",
     "text": [
      "Writing setup.py\n"
     ]
    }
   ],
   "source": [
    "%%file setup.py\n",
    "import os, sys\n",
    "\n",
    "from distutils.core import setup, Extension\n",
    "from distutils import sysconfig\n",
    "\n",
    "cpp_args = ['-std=c++11', '-stdlib=libc++', '-mmacosx-version-min=10.7']\n",
    "\n",
    "ext_modules = [\n",
    "    Extension(\n",
    "    'wrap',\n",
    "        ['funcs.cpp', 'wrap.cpp'],\n",
    "        include_dirs=['pybind11/include'],\n",
    "    language='c++',\n",
    "    extra_compile_args = cpp_args,\n",
    "    ),\n",
    "]\n",
    "\n",
    "setup(\n",
    "    name='wrap',\n",
    "    version='0.0.1',\n",
    "    author='Cliburn Chan',\n",
    "    author_email='cliburn.chan@duke.edu',\n",
    "    description='Example',\n",
    "    ext_modules=ext_modules,\n",
    ")"
   ]
  },
  {
   "cell_type": "markdown",
   "metadata": {},
   "source": [
    "Now build the extension module in the subdirectory with these files"
   ]
  },
  {
   "cell_type": "code",
   "execution_count": 6,
   "metadata": {
    "collapsed": false
   },
   "outputs": [
    {
     "name": "stdout",
     "output_type": "stream",
     "text": [
      "running build_ext\n",
      "building 'wrap' extension\n",
      "creating build\n",
      "creating build/temp.macosx-10.6-x86_64-3.5\n",
      "/usr/bin/clang -Wno-unused-result -Wsign-compare -Wunreachable-code -DNDEBUG -g -fwrapv -O3 -Wall -Wstrict-prototypes -I/Users/cliburn/anaconda2/envs/p3/include -arch x86_64 -Ipybind11/include -I/Users/cliburn/anaconda2/envs/p3/include/python3.5m -c funcs.cpp -o build/temp.macosx-10.6-x86_64-3.5/funcs.o -std=c++11 -stdlib=libc++ -mmacosx-version-min=10.7\n",
      "/usr/bin/clang -Wno-unused-result -Wsign-compare -Wunreachable-code -DNDEBUG -g -fwrapv -O3 -Wall -Wstrict-prototypes -I/Users/cliburn/anaconda2/envs/p3/include -arch x86_64 -Ipybind11/include -I/Users/cliburn/anaconda2/envs/p3/include/python3.5m -c wrap.cpp -o build/temp.macosx-10.6-x86_64-3.5/wrap.o -std=c++11 -stdlib=libc++ -mmacosx-version-min=10.7\n",
      "/usr/bin/clang++ -bundle -undefined dynamic_lookup -L/Users/cliburn/anaconda2/envs/p3/lib -arch x86_64 build/temp.macosx-10.6-x86_64-3.5/funcs.o build/temp.macosx-10.6-x86_64-3.5/wrap.o -L/Users/cliburn/anaconda2/envs/p3/lib -o /Users/cliburn/git-teach/sta-663-2017-public/scratch/example1/wrap.cpython-35m-darwin.so\n"
     ]
    },
    {
     "name": "stderr",
     "output_type": "stream",
     "text": [
      "clang: warning: libstdc++ is deprecated; move to libc++ with a minimum deployment target of OS X 10.9\n",
      "ld: warning: object file (build/temp.macosx-10.6-x86_64-3.5/funcs.o) was built for newer OSX version (10.7) than being linked (10.6)\n",
      "ld: warning: object file (build/temp.macosx-10.6-x86_64-3.5/wrap.o) was built for newer OSX version (10.7) than being linked (10.6)\n"
     ]
    }
   ],
   "source": [
    "%%bash\n",
    "\n",
    "python setup.py build_ext -i"
   ]
  },
  {
   "cell_type": "markdown",
   "metadata": {},
   "source": [
    "And if you are successful, you should now see a new ```funcs.so``` extension module. We can write a `test_funcs.py` file test the extension module:"
   ]
  },
  {
   "cell_type": "code",
   "execution_count": 7,
   "metadata": {
    "collapsed": false
   },
   "outputs": [
    {
     "name": "stdout",
     "output_type": "stream",
     "text": [
      "Writing test_funcs.py\n"
     ]
    }
   ],
   "source": [
    "%%file test_funcs.py\n",
    "\n",
    "import wrap\n",
    "\n",
    "def test_add():\n",
    "    print(wrap.add(3, 4))\n",
    "    assert(wrap.add(3, 4) == 7)\n",
    "\n",
    "if __name__ == '__main__':\n",
    "    test_add()"
   ]
  },
  {
   "cell_type": "markdown",
   "metadata": {},
   "source": [
    "And finally, running the test should not generate any error messages:"
   ]
  },
  {
   "cell_type": "code",
   "execution_count": 8,
   "metadata": {
    "collapsed": false
   },
   "outputs": [
    {
     "name": "stdout",
     "output_type": "stream",
     "text": [
      "7\n"
     ]
    }
   ],
   "source": [
    "%%bash\n",
    "\n",
    "python test_funcs.py"
   ]
  },
  {
   "cell_type": "code",
   "execution_count": 9,
   "metadata": {
    "collapsed": false
   },
   "outputs": [
    {
     "name": "stdout",
     "output_type": "stream",
     "text": [
      "/Users/cliburn/git-teach/sta-663-2017-public/scratch\n"
     ]
    }
   ],
   "source": [
    "%cd .."
   ]
  },
  {
   "cell_type": "markdown",
   "metadata": {},
   "source": [
    "## Using `cppimport`\n",
    "\n",
    "In the development stage, it can be distracting to have to repeatedly rebuild the extension module by running\n",
    "\n",
    "```bash\n",
    "python setup.py clean\n",
    "python setup.py build_ext -i\n",
    "```\n",
    "\n",
    "every single time you modify the C++ code. The `cppimport` package does this for you. \n",
    "\n",
    "Create a new sub-directory `exaample2` and copy the files `func.hpp`, `funcs.cpp` and `wrap.cpp` from `example1` over.\n",
    "For the previous example, we just need to add some annotation (between `<% and %>` delimiters) to the top of the `wrap.cpp` file"
   ]
  },
  {
   "cell_type": "code",
   "execution_count": 10,
   "metadata": {
    "collapsed": false
   },
   "outputs": [
    {
     "name": "stdout",
     "output_type": "stream",
     "text": [
      "/Users/cliburn/git-teach/sta-663-2017-public/scratch/example2\n"
     ]
    }
   ],
   "source": [
    "%mkdir example2\n",
    "%cp example1/funcs.* example2/\n",
    "%cd example2"
   ]
  },
  {
   "cell_type": "code",
   "execution_count": 11,
   "metadata": {
    "collapsed": false
   },
   "outputs": [
    {
     "name": "stdout",
     "output_type": "stream",
     "text": [
      "Writing wrap.cpp\n"
     ]
    }
   ],
   "source": [
    "%%file wrap.cpp\n",
    "<%\n",
    "cfg['compiler_args'] = ['-std=c++11', '-stdlib=libc++', '-mmacosx-version-min=10.7']\n",
    "cfg['sources'] = ['funcs.cpp']\n",
    "setup_pybind11(cfg)\n",
    "%>\n",
    "\n",
    "#include \"funcs.hpp\"\n",
    "#include <pybind11/pybind11.h>\n",
    "\n",
    "namespace py = pybind11;\n",
    "\n",
    "PYBIND11_PLUGIN(wrap) {\n",
    "    py::module m(\"wrap\", \"pybind11 example plugin\");\n",
    "    m.def(\"add\", &add, \"A function which adds two numbers\");\n",
    "    return m.ptr();\n",
    "}"
   ]
  },
  {
   "cell_type": "code",
   "execution_count": 12,
   "metadata": {
    "collapsed": false
   },
   "outputs": [
    {
     "name": "stdout",
     "output_type": "stream",
     "text": [
      "Writing test_funcs.py\n"
     ]
    }
   ],
   "source": [
    "%%file test_funcs.py\n",
    "\n",
    "import cppimport\n",
    "funcs = cppimport.imp(\"wrap\")\n",
    "\n",
    "def test_add():\n",
    "    assert(funcs.add(3, 4) == 7)\n",
    "\n",
    "if __name__ == '__main__':\n",
    "    print(funcs.add(3,4))\n",
    "    test_add()"
   ]
  },
  {
   "cell_type": "code",
   "execution_count": 13,
   "metadata": {
    "collapsed": false
   },
   "outputs": [
    {
     "name": "stdout",
     "output_type": "stream",
     "text": [
      "7\n"
     ]
    },
    {
     "name": "stderr",
     "output_type": "stream",
     "text": [
      "clang: warning: libstdc++ is deprecated; move to libc++ with a minimum deployment target of OS X 10.9\n",
      "ld: warning: object file (/var/folders/xf/rzdg30ps11g93j3w0h589q780000gn/T/tmp5fz61n6k/Users/cliburn/git-teach/sta-663-2017-public/scratch/example2/funcs.o) was built for newer OSX version (10.7) than being linked (10.6)\n",
      "ld: warning: object file (/var/folders/xf/rzdg30ps11g93j3w0h589q780000gn/T/tmp5fz61n6k/Users/cliburn/git-teach/sta-663-2017-public/scratch/example2/.rendered.wrap.o) was built for newer OSX version (10.7) than being linked (10.6)\n"
     ]
    }
   ],
   "source": [
    "%%bash\n",
    "\n",
    "python test_funcs.py "
   ]
  },
  {
   "cell_type": "markdown",
   "metadata": {},
   "source": [
    "Or just call from notebook"
   ]
  },
  {
   "cell_type": "code",
   "execution_count": 14,
   "metadata": {
    "collapsed": false
   },
   "outputs": [
    {
     "data": {
      "text/plain": [
       "{'In': ['',\n",
       "  \"get_ipython().magic('mkdir example1')\\nget_ipython().magic('cd example1')\",\n",
       "  \"get_ipython().run_cell_magic('file', 'funcs.hpp', '\\\\nint add(int i, int j);')\",\n",
       "  \"get_ipython().run_cell_magic('file', 'funcs.cpp', '\\\\nint add(int i, int j) {\\\\n    return i + j;\\\\n};')\",\n",
       "  'get_ipython().run_cell_magic(\\'file\\', \\'wrap.cpp\\', \\'#include <pybind11/pybind11.h>\\\\n#include \"funcs.hpp\"\\\\n\\\\nnamespace py = pybind11;\\\\n\\\\nusing namespace pybind11::literals;\\\\n\\\\nPYBIND11_PLUGIN(wrap) {\\\\n    py::module m(\"wrap\", \"pybind11 example plugin\");\\\\n    m.def(\"add\", &add, \"A function which adds two numbers\",\\\\n          \"i\"_a=1, \"j\"_a=2);\\\\n    return m.ptr();\\\\n}\\')',\n",
       "  'get_ipython().run_cell_magic(\\'file\\', \\'setup.py\\', \"import os, sys\\\\n\\\\nfrom distutils.core import setup, Extension\\\\nfrom distutils import sysconfig\\\\n\\\\ncpp_args = [\\'-std=c++11\\', \\'-stdlib=libc++\\', \\'-mmacosx-version-min=10.7\\']\\\\n\\\\next_modules = [\\\\n    Extension(\\\\n    \\'wrap\\',\\\\n        [\\'funcs.cpp\\', \\'wrap.cpp\\'],\\\\n        include_dirs=[\\'pybind11/include\\'],\\\\n    language=\\'c++\\',\\\\n    extra_compile_args = cpp_args,\\\\n    ),\\\\n]\\\\n\\\\nsetup(\\\\n    name=\\'wrap\\',\\\\n    version=\\'0.0.1\\',\\\\n    author=\\'Cliburn Chan\\',\\\\n    author_email=\\'cliburn.chan@duke.edu\\',\\\\n    description=\\'Example\\',\\\\n    ext_modules=ext_modules,\\\\n)\")',\n",
       "  \"get_ipython().run_cell_magic('bash', '', '\\\\npython setup.py build_ext -i')\",\n",
       "  'get_ipython().run_cell_magic(\\'file\\', \\'test_funcs.py\\', \"\\\\nimport wrap\\\\n\\\\ndef test_add():\\\\n    print(wrap.add(3, 4))\\\\n    assert(wrap.add(3, 4) == 7)\\\\n\\\\nif __name__ == \\'__main__\\':\\\\n    test_add()\")',\n",
       "  \"get_ipython().run_cell_magic('bash', '', '\\\\npython test_funcs.py')\",\n",
       "  \"get_ipython().magic('cd ..')\",\n",
       "  \"get_ipython().magic('mkdir example2')\\nget_ipython().magic('cp example1/funcs.* example2/')\\nget_ipython().magic('cd example2')\",\n",
       "  'get_ipython().run_cell_magic(\\'file\\', \\'wrap.cpp\\', \\'<%\\\\ncfg[\\\\\\'compiler_args\\\\\\'] = [\\\\\\'-std=c++11\\\\\\', \\\\\\'-stdlib=libc++\\\\\\', \\\\\\'-mmacosx-version-min=10.7\\\\\\']\\\\ncfg[\\\\\\'sources\\\\\\'] = [\\\\\\'funcs.cpp\\\\\\']\\\\nsetup_pybind11(cfg)\\\\n%>\\\\n\\\\n#include \"funcs.hpp\"\\\\n#include <pybind11/pybind11.h>\\\\n\\\\nnamespace py = pybind11;\\\\n\\\\nPYBIND11_PLUGIN(wrap) {\\\\n    py::module m(\"wrap\", \"pybind11 example plugin\");\\\\n    m.def(\"add\", &add, \"A function which adds two numbers\");\\\\n    return m.ptr();\\\\n}\\')',\n",
       "  'get_ipython().run_cell_magic(\\'file\\', \\'test_funcs.py\\', \\'\\\\nimport cppimport\\\\nfuncs = cppimport.imp(\"wrap\")\\\\n\\\\ndef test_add():\\\\n    assert(funcs.add(3, 4) == 7)\\\\n\\\\nif __name__ == \\\\\\'__main__\\\\\\':\\\\n    print(funcs.add(3,4))\\\\n    test_add()\\')',\n",
       "  \"get_ipython().run_cell_magic('bash', '', '\\\\npython test_funcs.py ')\",\n",
       "  'import cppimport\\nfuncs = cppimport.imp(\"wrap\")\\n\\nfuncs.add(3, 4)'],\n",
       " 'Out': {},\n",
       " '_': '',\n",
       " '__': '',\n",
       " '___': '',\n",
       " '__builtin__': <module 'builtins' (built-in)>,\n",
       " '__builtins__': <module 'builtins' (built-in)>,\n",
       " '__doc__': 'Automatically created module for IPython interactive environment',\n",
       " '__loader__': None,\n",
       " '__name__': '__main__',\n",
       " '__package__': None,\n",
       " '__spec__': None,\n",
       " '_dh': ['/Users/cliburn/git-teach/sta-663-2017-public/scratch',\n",
       "  '/Users/cliburn/git-teach/sta-663-2017-public/scratch/example1',\n",
       "  '/Users/cliburn/git-teach/sta-663-2017-public/scratch',\n",
       "  '/Users/cliburn/git-teach/sta-663-2017-public/scratch/example2'],\n",
       " '_exit_code': 0,\n",
       " '_i': '%%bash\\n\\npython test_funcs.py ',\n",
       " '_i1': '%mkdir example1\\n%cd example1',\n",
       " '_i10': '%mkdir example2\\n%cp example1/funcs.* example2/\\n%cd example2',\n",
       " '_i11': '%%file wrap.cpp\\n<%\\ncfg[\\'compiler_args\\'] = [\\'-std=c++11\\', \\'-stdlib=libc++\\', \\'-mmacosx-version-min=10.7\\']\\ncfg[\\'sources\\'] = [\\'funcs.cpp\\']\\nsetup_pybind11(cfg)\\n%>\\n\\n#include \"funcs.hpp\"\\n#include <pybind11/pybind11.h>\\n\\nnamespace py = pybind11;\\n\\nPYBIND11_PLUGIN(wrap) {\\n    py::module m(\"wrap\", \"pybind11 example plugin\");\\n    m.def(\"add\", &add, \"A function which adds two numbers\");\\n    return m.ptr();\\n}',\n",
       " '_i12': '%%file test_funcs.py\\n\\nimport cppimport\\nfuncs = cppimport.imp(\"wrap\")\\n\\ndef test_add():\\n    assert(funcs.add(3, 4) == 7)\\n\\nif __name__ == \\'__main__\\':\\n    print(funcs.add(3,4))\\n    test_add()',\n",
       " '_i13': '%%bash\\n\\npython test_funcs.py ',\n",
       " '_i14': 'import cppimport\\nfuncs = cppimport.imp(\"wrap\")\\n\\nfuncs.add(3, 4)',\n",
       " '_i2': '%%file funcs.hpp\\n\\nint add(int i, int j);',\n",
       " '_i3': '%%file funcs.cpp\\n\\nint add(int i, int j) {\\n    return i + j;\\n};',\n",
       " '_i4': '%%file wrap.cpp\\n#include <pybind11/pybind11.h>\\n#include \"funcs.hpp\"\\n\\nnamespace py = pybind11;\\n\\nusing namespace pybind11::literals;\\n\\nPYBIND11_PLUGIN(wrap) {\\n    py::module m(\"wrap\", \"pybind11 example plugin\");\\n    m.def(\"add\", &add, \"A function which adds two numbers\",\\n          \"i\"_a=1, \"j\"_a=2);\\n    return m.ptr();\\n}',\n",
       " '_i5': \"%%file setup.py\\nimport os, sys\\n\\nfrom distutils.core import setup, Extension\\nfrom distutils import sysconfig\\n\\ncpp_args = ['-std=c++11', '-stdlib=libc++', '-mmacosx-version-min=10.7']\\n\\next_modules = [\\n    Extension(\\n    'wrap',\\n        ['funcs.cpp', 'wrap.cpp'],\\n        include_dirs=['pybind11/include'],\\n    language='c++',\\n    extra_compile_args = cpp_args,\\n    ),\\n]\\n\\nsetup(\\n    name='wrap',\\n    version='0.0.1',\\n    author='Cliburn Chan',\\n    author_email='cliburn.chan@duke.edu',\\n    description='Example',\\n    ext_modules=ext_modules,\\n)\",\n",
       " '_i6': '%%bash\\n\\npython setup.py build_ext -i',\n",
       " '_i7': \"%%file test_funcs.py\\n\\nimport wrap\\n\\ndef test_add():\\n    print(wrap.add(3, 4))\\n    assert(wrap.add(3, 4) == 7)\\n\\nif __name__ == '__main__':\\n    test_add()\",\n",
       " '_i8': '%%bash\\n\\npython test_funcs.py',\n",
       " '_i9': '%cd ..',\n",
       " '_ih': ['',\n",
       "  \"get_ipython().magic('mkdir example1')\\nget_ipython().magic('cd example1')\",\n",
       "  \"get_ipython().run_cell_magic('file', 'funcs.hpp', '\\\\nint add(int i, int j);')\",\n",
       "  \"get_ipython().run_cell_magic('file', 'funcs.cpp', '\\\\nint add(int i, int j) {\\\\n    return i + j;\\\\n};')\",\n",
       "  'get_ipython().run_cell_magic(\\'file\\', \\'wrap.cpp\\', \\'#include <pybind11/pybind11.h>\\\\n#include \"funcs.hpp\"\\\\n\\\\nnamespace py = pybind11;\\\\n\\\\nusing namespace pybind11::literals;\\\\n\\\\nPYBIND11_PLUGIN(wrap) {\\\\n    py::module m(\"wrap\", \"pybind11 example plugin\");\\\\n    m.def(\"add\", &add, \"A function which adds two numbers\",\\\\n          \"i\"_a=1, \"j\"_a=2);\\\\n    return m.ptr();\\\\n}\\')',\n",
       "  'get_ipython().run_cell_magic(\\'file\\', \\'setup.py\\', \"import os, sys\\\\n\\\\nfrom distutils.core import setup, Extension\\\\nfrom distutils import sysconfig\\\\n\\\\ncpp_args = [\\'-std=c++11\\', \\'-stdlib=libc++\\', \\'-mmacosx-version-min=10.7\\']\\\\n\\\\next_modules = [\\\\n    Extension(\\\\n    \\'wrap\\',\\\\n        [\\'funcs.cpp\\', \\'wrap.cpp\\'],\\\\n        include_dirs=[\\'pybind11/include\\'],\\\\n    language=\\'c++\\',\\\\n    extra_compile_args = cpp_args,\\\\n    ),\\\\n]\\\\n\\\\nsetup(\\\\n    name=\\'wrap\\',\\\\n    version=\\'0.0.1\\',\\\\n    author=\\'Cliburn Chan\\',\\\\n    author_email=\\'cliburn.chan@duke.edu\\',\\\\n    description=\\'Example\\',\\\\n    ext_modules=ext_modules,\\\\n)\")',\n",
       "  \"get_ipython().run_cell_magic('bash', '', '\\\\npython setup.py build_ext -i')\",\n",
       "  'get_ipython().run_cell_magic(\\'file\\', \\'test_funcs.py\\', \"\\\\nimport wrap\\\\n\\\\ndef test_add():\\\\n    print(wrap.add(3, 4))\\\\n    assert(wrap.add(3, 4) == 7)\\\\n\\\\nif __name__ == \\'__main__\\':\\\\n    test_add()\")',\n",
       "  \"get_ipython().run_cell_magic('bash', '', '\\\\npython test_funcs.py')\",\n",
       "  \"get_ipython().magic('cd ..')\",\n",
       "  \"get_ipython().magic('mkdir example2')\\nget_ipython().magic('cp example1/funcs.* example2/')\\nget_ipython().magic('cd example2')\",\n",
       "  'get_ipython().run_cell_magic(\\'file\\', \\'wrap.cpp\\', \\'<%\\\\ncfg[\\\\\\'compiler_args\\\\\\'] = [\\\\\\'-std=c++11\\\\\\', \\\\\\'-stdlib=libc++\\\\\\', \\\\\\'-mmacosx-version-min=10.7\\\\\\']\\\\ncfg[\\\\\\'sources\\\\\\'] = [\\\\\\'funcs.cpp\\\\\\']\\\\nsetup_pybind11(cfg)\\\\n%>\\\\n\\\\n#include \"funcs.hpp\"\\\\n#include <pybind11/pybind11.h>\\\\n\\\\nnamespace py = pybind11;\\\\n\\\\nPYBIND11_PLUGIN(wrap) {\\\\n    py::module m(\"wrap\", \"pybind11 example plugin\");\\\\n    m.def(\"add\", &add, \"A function which adds two numbers\");\\\\n    return m.ptr();\\\\n}\\')',\n",
       "  'get_ipython().run_cell_magic(\\'file\\', \\'test_funcs.py\\', \\'\\\\nimport cppimport\\\\nfuncs = cppimport.imp(\"wrap\")\\\\n\\\\ndef test_add():\\\\n    assert(funcs.add(3, 4) == 7)\\\\n\\\\nif __name__ == \\\\\\'__main__\\\\\\':\\\\n    print(funcs.add(3,4))\\\\n    test_add()\\')',\n",
       "  \"get_ipython().run_cell_magic('bash', '', '\\\\npython test_funcs.py ')\",\n",
       "  'import cppimport\\nfuncs = cppimport.imp(\"wrap\")\\n\\nfuncs.add(3, 4)'],\n",
       " '_ii': '%%file test_funcs.py\\n\\nimport cppimport\\nfuncs = cppimport.imp(\"wrap\")\\n\\ndef test_add():\\n    assert(funcs.add(3, 4) == 7)\\n\\nif __name__ == \\'__main__\\':\\n    print(funcs.add(3,4))\\n    test_add()',\n",
       " '_iii': '%%file wrap.cpp\\n<%\\ncfg[\\'compiler_args\\'] = [\\'-std=c++11\\', \\'-stdlib=libc++\\', \\'-mmacosx-version-min=10.7\\']\\ncfg[\\'sources\\'] = [\\'funcs.cpp\\']\\nsetup_pybind11(cfg)\\n%>\\n\\n#include \"funcs.hpp\"\\n#include <pybind11/pybind11.h>\\n\\nnamespace py = pybind11;\\n\\nPYBIND11_PLUGIN(wrap) {\\n    py::module m(\"wrap\", \"pybind11 example plugin\");\\n    m.def(\"add\", &add, \"A function which adds two numbers\");\\n    return m.ptr();\\n}',\n",
       " '_oh': {},\n",
       " '_sh': <module 'IPython.core.shadowns' from '/Users/cliburn/anaconda2/envs/p3/lib/python3.5/site-packages/IPython/core/shadowns.py'>,\n",
       " 'cppimport': <module 'cppimport' from '/Users/cliburn/anaconda2/envs/p3/lib/python3.5/site-packages/cppimport/__init__.py'>,\n",
       " 'exit': <IPython.core.autocall.ZMQExitAutocall at 0x10344c470>,\n",
       " 'funcs': <module 'wrap' from '/Users/cliburn/git-teach/sta-663-2017-public/scratch/example2/wrap.cpython-35m-darwin.so'>,\n",
       " 'get_ipython': <bound method InteractiveShell.get_ipython of <ipykernel.zmqshell.ZMQInteractiveShell object at 0x103057ef0>>,\n",
       " 'quit': <IPython.core.autocall.ZMQExitAutocall at 0x10344c470>}"
      ]
     },
     "execution_count": 14,
     "metadata": {},
     "output_type": "execute_result"
    }
   ],
   "source": [
    "import cppimport\n",
    "funcs = cppimport.imp(\"wrap\")\n",
    "\n",
    "funcs.add(3, 4)"
   ]
  },
  {
   "cell_type": "markdown",
   "metadata": {},
   "source": [
    "without any need to manually build the extension module. Any updates will be detected by `cppimport` and it will automatically trigger a re-build."
   ]
  },
  {
   "cell_type": "code",
   "execution_count": 15,
   "metadata": {
    "collapsed": false
   },
   "outputs": [
    {
     "name": "stdout",
     "output_type": "stream",
     "text": [
      "/Users/cliburn/git-teach/sta-663-2017-public/scratch\n"
     ]
    }
   ],
   "source": [
    "%cd .."
   ]
  },
  {
   "cell_type": "markdown",
   "metadata": {},
   "source": [
    "## Vectorizing functions for use with `numpy` arrays\n",
    "\n",
    "Example showing how to vectorize a `square` function. Note that from here on, we don't bother to use separate header and implementation files for these code snippets, and just write them together with the wrapping code in a `code.cpp` file. This means that with `cppimport`, there are only two files that we actually code for, a C++ `code.cpp` file and a python test file."
   ]
  },
  {
   "cell_type": "code",
   "execution_count": 16,
   "metadata": {
    "collapsed": false
   },
   "outputs": [
    {
     "name": "stdout",
     "output_type": "stream",
     "text": [
      "/Users/cliburn/git-teach/sta-663-2017-public/scratch/example3\n"
     ]
    }
   ],
   "source": [
    "%mkdir example3\n",
    "%cd example3"
   ]
  },
  {
   "cell_type": "code",
   "execution_count": 17,
   "metadata": {
    "collapsed": false
   },
   "outputs": [
    {
     "name": "stdout",
     "output_type": "stream",
     "text": [
      "Writing wrap.cpp\n"
     ]
    }
   ],
   "source": [
    "%%file wrap.cpp\n",
    "<%\n",
    "cfg['compiler_args'] = ['-std=c++11', '-stdlib=libc++', '-mmacosx-version-min=10.7']\n",
    "setup_pybind11(cfg)\n",
    "%>\n",
    "\n",
    "#include <pybind11/pybind11.h>\n",
    "#include <pybind11/numpy.h>\n",
    "\n",
    "namespace py = pybind11;\n",
    "\n",
    "double square(double x) {\n",
    "    return x * x;\n",
    "}\n",
    "\n",
    "PYBIND11_PLUGIN(code) {\n",
    "    py::module m(\"wrap\", \"auto-compiled c++ extension\");\n",
    "    m.def(\"square\", py::vectorize(square));\n",
    "    return m.ptr();\n",
    "}"
   ]
  },
  {
   "cell_type": "code",
   "execution_count": 18,
   "metadata": {
    "collapsed": false
   },
   "outputs": [
    {
     "name": "stdout",
     "output_type": "stream",
     "text": [
      "[ 0.11452981  0.54149398  0.54458795  0.04748548  0.26545907  0.52472784\n",
      "  0.55701113  0.38717192  0.76610652  0.89159453]\n"
     ]
    },
    {
     "ename": "AttributeError",
     "evalue": "module 'wrap' has no attribute 'square'",
     "output_type": "error",
     "traceback": [
      "\u001b[0;31m---------------------------------------------------------------------------\u001b[0m",
      "\u001b[0;31mAttributeError\u001b[0m                            Traceback (most recent call last)",
      "\u001b[0;32m<ipython-input-18-0a7892e9ea70>\u001b[0m in \u001b[0;36m<module>\u001b[0;34m()\u001b[0m\n\u001b[1;32m      6\u001b[0m \u001b[0mxs\u001b[0m \u001b[0;34m=\u001b[0m \u001b[0mnp\u001b[0m\u001b[0;34m.\u001b[0m\u001b[0mrandom\u001b[0m\u001b[0;34m.\u001b[0m\u001b[0mrand\u001b[0m\u001b[0;34m(\u001b[0m\u001b[0;36m10\u001b[0m\u001b[0;34m)\u001b[0m\u001b[0;34m\u001b[0m\u001b[0m\n\u001b[1;32m      7\u001b[0m \u001b[0mprint\u001b[0m\u001b[0;34m(\u001b[0m\u001b[0mxs\u001b[0m\u001b[0;34m)\u001b[0m\u001b[0;34m\u001b[0m\u001b[0m\n\u001b[0;32m----> 8\u001b[0;31m \u001b[0mprint\u001b[0m\u001b[0;34m(\u001b[0m\u001b[0mwrap\u001b[0m\u001b[0;34m.\u001b[0m\u001b[0msquare\u001b[0m\u001b[0;34m(\u001b[0m\u001b[0mxs\u001b[0m\u001b[0;34m)\u001b[0m\u001b[0;34m)\u001b[0m\u001b[0;34m\u001b[0m\u001b[0m\n\u001b[0m\u001b[1;32m      9\u001b[0m \u001b[0;34m\u001b[0m\u001b[0m\n\u001b[1;32m     10\u001b[0m \u001b[0mys\u001b[0m \u001b[0;34m=\u001b[0m \u001b[0mrange\u001b[0m\u001b[0;34m(\u001b[0m\u001b[0;36m10\u001b[0m\u001b[0;34m)\u001b[0m\u001b[0;34m\u001b[0m\u001b[0m\n",
      "\u001b[0;31mAttributeError\u001b[0m: module 'wrap' has no attribute 'square'"
     ]
    }
   ],
   "source": [
    "import cppimport\n",
    "import numpy as np\n",
    "\n",
    "wrap = cppimport.imp(\"wrap\")\n",
    "\n",
    "xs = np.random.rand(10)\n",
    "print(xs)\n",
    "print(wrap.square(xs))\n",
    "\n",
    "ys = range(10)\n",
    "print(wrap.square(ys))"
   ]
  },
  {
   "cell_type": "code",
   "execution_count": null,
   "metadata": {
    "collapsed": false
   },
   "outputs": [],
   "source": [
    "%cd .."
   ]
  },
  {
   "cell_type": "markdown",
   "metadata": {},
   "source": [
    "## Using `numpy` arrays as function arguments and return values\n",
    "\n",
    "Example showing how to pass `numpy` arrays in and out of functions. These `numpy` array arguments can either be generic `py:array` or typed `py:array_t<double>`. The properties of the `numpy` array can be obtained by calling its `request` method. This returns a `struct` of the following form:\n",
    "\n",
    "```c++\n",
    "struct buffer_info {\n",
    "    void *ptr;\n",
    "    size_t itemsize;\n",
    "    std::string format;\n",
    "    int ndim;\n",
    "    std::vector<size_t> shape;\n",
    "    std::vector<size_t> strides;\n",
    "};\n",
    "```\n",
    "\n",
    "Here is C++ code for two functions - the function `twice` shows how to change a passed in `numpy` array in-place using pointers; the function `sum` shows how to sum the elements of a `numpy` array. By taking advantage of the information in `buffer_info`, the code will work for arbitrary `n-d` arrays."
   ]
  },
  {
   "cell_type": "code",
   "execution_count": null,
   "metadata": {
    "collapsed": false
   },
   "outputs": [],
   "source": [
    "%mkdir example4\n",
    "%cd example4"
   ]
  },
  {
   "cell_type": "code",
   "execution_count": null,
   "metadata": {
    "collapsed": false
   },
   "outputs": [],
   "source": [
    "%%file code.cpp\n",
    "<%\n",
    "cfg['compiler_args'] = ['-std=c++11', '-stdlib=libc++', '-mmacosx-version-min=10.7']\n",
    "setup_pybind11(cfg)\n",
    "%>\n",
    "\n",
    "#include <pybind11/pybind11.h>\n",
    "#include <pybind11/numpy.h>\n",
    "\n",
    "namespace py = pybind11;\n",
    "\n",
    "// Passing in an array of doubles\n",
    "void twice(py::array_t<double> xs) {\n",
    "    py::buffer_info info = xs.request();\n",
    "    auto ptr = static_cast<double *>(info.ptr);\n",
    "\n",
    "    int n = 1;\n",
    "    for (auto r: info.shape) {\n",
    "      n *= r;\n",
    "    }\n",
    "\n",
    "    for (int i = 0; i <n; i++) {\n",
    "        *ptr++ *= 2;\n",
    "    }\n",
    "}\n",
    "\n",
    "// Passing in a generic array\n",
    "double sum(py::array xs) {\n",
    "    py::buffer_info info = xs.request();\n",
    "    auto ptr = static_cast<double *>(info.ptr);\n",
    "\n",
    "    int n = 1;\n",
    "    for (auto r: info.shape) {\n",
    "      n *= r;\n",
    "    }\n",
    "\n",
    "    double s = 0.0;\n",
    "    for (int i = 0; i <n; i++) {\n",
    "        s += *ptr++;\n",
    "    }\n",
    "\n",
    "    return s;\n",
    "}\n",
    "\n",
    "PYBIND11_PLUGIN(code) {\n",
    "    pybind11::module m(\"code\", \"auto-compiled c++ extension\");\n",
    "    m.def(\"sum\", &sum);\n",
    "    m.def(\"twice\", &twice);\n",
    "    return m.ptr();\n",
    "}"
   ]
  },
  {
   "cell_type": "code",
   "execution_count": null,
   "metadata": {
    "collapsed": false
   },
   "outputs": [],
   "source": [
    "%%file test_code.py\n",
    "import cppimport\n",
    "import numpy as np\n",
    "\n",
    "code = cppimport.imp(\"code\")\n",
    "\n",
    "if __name__ == '__main__':\n",
    "    xs = np.arange(12).reshape(3,4).astype('float')\n",
    "    print(xs)\n",
    "    print(\"np :\", xs.sum())\n",
    "    print(\"cpp:\", code.sum(xs))\n",
    "\n",
    "    print()\n",
    "    code.twice(xs)\n",
    "    print(xs)"
   ]
  },
  {
   "cell_type": "code",
   "execution_count": null,
   "metadata": {
    "collapsed": false
   },
   "outputs": [],
   "source": [
    "%%bash\n",
    "\n",
    "python test_code.py"
   ]
  },
  {
   "cell_type": "code",
   "execution_count": null,
   "metadata": {
    "collapsed": true
   },
   "outputs": [],
   "source": [
    "%cd .."
   ]
  },
  {
   "cell_type": "markdown",
   "metadata": {},
   "source": [
    "## More on working with `numpy` arrays\n",
    "\n",
    "This example shows how to use array access for `numpy` arrays within the C++ function. It is taken from the `pybind11` documentation, but fixes a small bug in the official version. As noted in the documentation, the function would be more easily coded using `py::vectorize`."
   ]
  },
  {
   "cell_type": "markdown",
   "metadata": {},
   "source": [
    "```c++\n",
    "<%\n",
    "cfg['compiler_args'] = ['-std=c++11', '-stdlib=libc++', '-mmacosx-version-min=10.7']\n",
    "setup_pybind11(cfg)\n",
    "%>\n",
    "\n",
    "#include <pybind11/pybind11.h>\n",
    "#include <pybind11/numpy.h>\n",
    "\n",
    "namespace py = pybind11;\n",
    "\n",
    "py::array_t<double> add_arrays(py::array_t<double> input1, py::array_t<double> input2) {\n",
    "    auto buf1 = input1.request(), buf2 = input2.request();\n",
    "\n",
    "    if (buf1.ndim != 1 || buf2.ndim != 1)\n",
    "        throw std::runtime_error(\"Number of dimensions must be one\");\n",
    "\n",
    "    if (buf1.shape[0] != buf2.shape[0])\n",
    "        throw std::runtime_error(\"Input shapes must match\");\n",
    "\n",
    "    auto result = py::array(py::buffer_info(\n",
    "        nullptr,            /* Pointer to data (nullptr -> ask NumPy to allocate!) */\n",
    "        sizeof(double),     /* Size of one item */\n",
    "        py::format_descriptor<double>::value, /* Buffer format */\n",
    "        buf1.ndim,          /* How many dimensions? */\n",
    "        { buf1.shape[0] },  /* Number of elements for each dimension */\n",
    "        { sizeof(double) }  /* Strides for each dimension */\n",
    "    ));\n",
    "\n",
    "    auto buf3 = result.request();\n",
    "\n",
    "    double *ptr1 = (double *) buf1.ptr,\n",
    "           *ptr2 = (double *) buf2.ptr,\n",
    "           *ptr3 = (double *) buf3.ptr;\n",
    "\n",
    "    for (size_t idx = 0; idx < buf1.shape[0]; idx++)\n",
    "        ptr3[idx] = ptr1[idx] + ptr2[idx];\n",
    "\n",
    "    return result;\n",
    "}\n",
    "\n",
    "PYBIND11_PLUGIN(code) {\n",
    "    py::module m(\"code\");\n",
    "    m.def(\"add_arrays\", &add_arrays, \"Add two NumPy arrays\");\n",
    "    return m.ptr();\n",
    "}\n",
    "```\n",
    "\n",
    "with test code\n",
    "```python\n",
    "import cppimport\n",
    "import numpy as np\n",
    "\n",
    "code = cppimport.imp(\"code\")\n",
    "\n",
    "if __name__ == '__main__':\n",
    "    xs = np.arange(12)\n",
    "    print(xs)\n",
    "\n",
    "    print(code.add_arrays(xs, xs))\n",
    "```"
   ]
  },
  {
   "cell_type": "markdown",
   "metadata": {},
   "source": [
    "## Using the C++ `eigen` library to calculate matrix inverse and determinant\n",
    "\n",
    "Example showing how `Eigen` vectors and matrices can be passed in and out of C++ functions. Note that `Eigen` arrays are automatically converted to/from `numpy` arrays simply by including the `pybind/eigen.h` header. Because of this, it is probably simplest in most cases to work with `Eigen` vectors and matrices rather than `py::buffer` or `py::array` where `py::vectorize` is insufficient.\n",
    "\n",
    "```c++\n",
    "<%\n",
    "cfg['compiler_args'] = ['-std=c++11', '-stdlib=libc++', '-mmacosx-version-min=10.7']\n",
    "cfg['include_dirs'] = ['/Users/cliburn/hg/eigen']\n",
    "setup_pybind11(cfg)\n",
    "%>\n",
    "\n",
    "#include <pybind11/pybind11.h>\n",
    "#include <pybind11/eigen.h>\n",
    "\n",
    "#include <Eigen/LU>\n",
    "\n",
    "namespace py = pybind11;\n",
    "\n",
    "// convenient matrix indexing comes for free\n",
    "double get(Eigen::MatrixXd xs, int i, int j) {\n",
    "    return xs(i, j);\n",
    "}\n",
    "\n",
    "// takes numpy array as input and returns double\n",
    "double det(Eigen::MatrixXd xs) {\n",
    "    return xs.determinant();\n",
    "}\n",
    "\n",
    "// takes numpy array as input and returns another numpy array\n",
    "Eigen::MatrixXd inv(Eigen::MatrixXd xs) {\n",
    "    return xs.inverse();\n",
    "}\n",
    "\n",
    "PYBIND11_PLUGIN(code) {\n",
    "    pybind11::module m(\"code\", \"auto-compiled c++ extension\");\n",
    "    m.def(\"inv\", &inv);\n",
    "    m.def(\"det\", &det);\n",
    "    return m.ptr();\n",
    "}\n",
    "```\n",
    "\n",
    "and test code\n",
    "\n",
    "```python\n",
    "import cppimport\n",
    "import numpy as np\n",
    "\n",
    "code = cppimport.imp(\"code\")\n",
    "\n",
    "if __name__ == '__main__':\n",
    "    A = np.array([[1,2,1],\n",
    "                  [2,1,0],\n",
    "                  [-1,1,2]])\n",
    "\n",
    "    print(A)\n",
    "    print(code.det(A))\n",
    "    print(code.inv(A))\n",
    "```"
   ]
  },
  {
   "cell_type": "markdown",
   "metadata": {},
   "source": [
    "## Using `pybind11` with `openmp`"
   ]
  },
  {
   "cell_type": "markdown",
   "metadata": {
    "collapsed": true
   },
   "source": [
    "Here is a standard example of using OpenMP to integrate the value of $\\pi$ written using `pybind11`.\n",
    "\n",
    "```c++\n",
    "<%\n",
    "cfg['compiler_args'] = ['-std=c++11', '-fopenmp']\n",
    "cfg['linker_args'] = ['-fopenmp']\n",
    "setup_pybind11(cfg)\n",
    "%>\n",
    "\n",
    "#include <omp.h>\n",
    "#include <pybind11/pybind11.h>\n",
    "#include <pybind11/numpy.h>\n",
    "\n",
    "namespace py = pybind11;\n",
    "\n",
    "double calc_pi(int n) {\n",
    "  /* Acquire GIL before calling Python code */\n",
    "  py::gil_scoped_acquire acquire;\n",
    "\n",
    "  int i;\n",
    "  double step = 1.0/n;\n",
    "  double s = 0;\n",
    "  \n",
    "  #pragma omp parallel\n",
    "  {\n",
    "    double x;\n",
    "    #pragma omp for reduction(+:s) \n",
    "    for (i=0; i<n; i++) {\n",
    "      x = (i+0.5) * step;\n",
    "      s += 4.0/(1 + x*x);\n",
    "    }\n",
    "  }\n",
    "  return step * s;\n",
    "};\n",
    "\n",
    "PYBIND11_PLUGIN(code) {\n",
    "  pybind11::module m(\"code\", \"auto-compiled c++ extension\");\n",
    "  m.def(\"calc_pi\", [](int n) {\n",
    "      /* Release GIL before calling into C++ code */      \n",
    "      py::gil_scoped_release release;\n",
    "      return calc_pi(n);\n",
    "    });\n",
    "\n",
    "  return m.ptr();\n",
    "}\n",
    "```\n",
    "\n",
    "And here is the test code.\n",
    "\n",
    "```python\n",
    "import cppimport\n",
    "import numpy as np\n",
    "\n",
    "code = cppimport.imp(\"code\")\n",
    "\n",
    "if __name__ == '__main__':\n",
    "    n = int(1e9)\n",
    "\n",
    "    print(code.calc_pi(n))\n",
    "```\n"
   ]
  },
  {
   "cell_type": "code",
   "execution_count": null,
   "metadata": {
    "collapsed": true
   },
   "outputs": [],
   "source": []
  }
 ],
 "metadata": {
  "kernelspec": {
   "display_name": "Python 3",
   "language": "python",
   "name": "python3"
  },
  "language_info": {
   "codemirror_mode": {
    "name": "ipython",
    "version": 3
   },
   "file_extension": ".py",
   "mimetype": "text/x-python",
   "name": "python",
   "nbconvert_exporter": "python",
   "pygments_lexer": "ipython3",
   "version": "3.5.2"
  },
  "latex_envs": {
   "bibliofile": "biblio.bib",
   "cite_by": "apalike",
   "current_citInitial": 1,
   "eqLabelWithNumbers": true,
   "eqNumInitial": 0
  }
 },
 "nbformat": 4,
 "nbformat_minor": 0
}
