{
 "cells": [
  {
   "cell_type": "markdown",
   "metadata": {},
   "source": [
    "# Numbers and `numpy`"
   ]
  },
  {
   "cell_type": "markdown",
   "metadata": {},
   "source": [
    "## Creating `numpy` arrays\n",
    "\n",
    "- Creating an array from a list\n",
    "- Properties: `shape`, `size`, `dtype`, `stride`\n",
    "- `fromstring`, `fromregex`, `fromfunc`\n",
    "- `arange`, `empty`, `zeros`, `ones`\n",
    "- `eye`, `diag`\n",
    "- `empty_like`, `zeros_like`, `ones_like`\n",
    "- `linspace`, `logspace`\n",
    "- `meshgrid`, `mgrid`\n",
    "- Changing order and dtype with `astype`"
   ]
  },
  {
   "cell_type": "code",
   "execution_count": null,
   "metadata": {
    "collapsed": true
   },
   "outputs": [],
   "source": []
  },
  {
   "cell_type": "markdown",
   "metadata": {},
   "source": [
    "## Creating random arrays\n",
    "\n",
    "- `np.choice`\n",
    "- Discrete distributions\n",
    "- Continuous distributions\n",
    "- `shuffle` and `permutation`"
   ]
  },
  {
   "cell_type": "code",
   "execution_count": null,
   "metadata": {
    "collapsed": true
   },
   "outputs": [],
   "source": []
  },
  {
   "cell_type": "markdown",
   "metadata": {},
   "source": [
    "## Indexing, reshaping and concatenation\n",
    "\n",
    "- Simple, boolean and fancy indexing\n",
    "- `ix_`\n",
    "- `reshape` and `transpose`\n",
    "- A 1D-array is neither a row nor a column vector!\n",
    "- `concat`, `stack`, `split``\n",
    "- `r_`, `c_`"
   ]
  },
  {
   "cell_type": "code",
   "execution_count": null,
   "metadata": {
    "collapsed": true
   },
   "outputs": [],
   "source": []
  },
  {
   "cell_type": "markdown",
   "metadata": {},
   "source": [
    "## Vectorization and universal functions (ufuncs)\n",
    "\n",
    "- unary and binary `ufucns`\n",
    "- `cumsum` and `cumprod`\n",
    "- `vectorize`\n",
    "- `dot`, `@`, `kron`"
   ]
  },
  {
   "cell_type": "code",
   "execution_count": null,
   "metadata": {
    "collapsed": true
   },
   "outputs": [],
   "source": []
  },
  {
   "cell_type": "markdown",
   "metadata": {},
   "source": [
    "## Array reductions\n",
    "\n",
    "- Global reductions\n",
    "- Using `axis`"
   ]
  },
  {
   "cell_type": "code",
   "execution_count": null,
   "metadata": {
    "collapsed": true
   },
   "outputs": [],
   "source": []
  },
  {
   "cell_type": "markdown",
   "metadata": {},
   "source": [
    "## Broadcasting rules\n",
    "\n",
    "- Compatible shapes for broadcasting\n",
    "- Using `newaxis` to enable broadcasting\n",
    "- Examples: multiplication table, normalization and distance matrix"
   ]
  },
  {
   "cell_type": "code",
   "execution_count": null,
   "metadata": {
    "collapsed": true
   },
   "outputs": [],
   "source": []
  },
  {
   "cell_type": "markdown",
   "metadata": {},
   "source": [
    "## Miscellaneous\n",
    "\n",
    "- `set_printoptions`\n",
    "- I/O with `save`, `load`, `savetxt`, `loadtxt`"
   ]
  },
  {
   "cell_type": "code",
   "execution_count": null,
   "metadata": {
    "collapsed": true
   },
   "outputs": [],
   "source": []
  }
 ],
 "metadata": {
  "kernelspec": {
   "display_name": "Python 3",
   "language": "python",
   "name": "python3"
  },
  "language_info": {
   "codemirror_mode": {
    "name": "ipython",
    "version": 3
   },
   "file_extension": ".py",
   "mimetype": "text/x-python",
   "name": "python",
   "nbconvert_exporter": "python",
   "pygments_lexer": "ipython3",
   "version": "3.5.2"
  }
 },
 "nbformat": 4,
 "nbformat_minor": 0
}
