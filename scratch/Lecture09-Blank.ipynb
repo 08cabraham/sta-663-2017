{
 "cells": [
  {
   "cell_type": "markdown",
   "metadata": {},
   "source": [
    "# Machine Learning in Python"
   ]
  },
  {
   "cell_type": "code",
   "execution_count": 1,
   "metadata": {
    "collapsed": false
   },
   "outputs": [],
   "source": [
    "%matplotlib inline\n",
    "import seaborn as sns"
   ]
  },
  {
   "cell_type": "code",
   "execution_count": 2,
   "metadata": {
    "collapsed": true
   },
   "outputs": [],
   "source": [
    "sns.set_context('notebook', font_scale=1.5)"
   ]
  },
  {
   "cell_type": "markdown",
   "metadata": {},
   "source": [
    "## Illustration\n",
    "\n",
    "[An image classification example](http://rapid-235.vm.duke.edu:5000)\n",
    "\n",
    "- Python-powered\n",
    "    - `opencv` and `scikit-image` for feature extraction\n",
    "    - `keras` for feature augmentation\n",
    "    - `scikit-learn` for classification\n",
    "    - `flask` for web application\n",
    "    - plus some JavaScript for interactive web features"
   ]
  },
  {
   "cell_type": "markdown",
   "metadata": {},
   "source": [
    "## Types of learning\n",
    "  - Unsupervised (clustering, density estimation)\n",
    "  - Supervised (classification, regression)\n",
    "  - Reinforcement (reward and punishment)"
   ]
  },
  {
   "cell_type": "markdown",
   "metadata": {},
   "source": [
    "## Objective of S/L\n",
    "  - Predict outcome from features\n",
    "  - y = outcome or label\n",
    "  - X = vector of features\n",
    "  - y = f(X, Θ) + error\n",
    "  - Loss function = g(y, f(X, Θ))"
   ]
  },
  {
   "cell_type": "markdown",
   "metadata": {},
   "source": [
    "## Model evaluation\n",
    "  - In-sample (training) and out-of-sample (test) errors\n",
    "  - Cross validation\n",
    "    - Holdout\n",
    "    - K-fold\n",
    "    - LOOCV\n",
    "  - **Note**: Any step which uses label/outcome information must be included in cross-validation pipeline"
   ]
  },
  {
   "cell_type": "markdown",
   "metadata": {},
   "source": [
    "## S/L training pipeline\n",
    "  - Raw data\n",
    "  - Extract features from raw data\n",
    "  - Normalize/scale features\n",
    "  - Select features for use in model\n",
    "  - Model selection/evaluation"
   ]
  },
  {
   "cell_type": "markdown",
   "metadata": {},
   "source": [
    "## S/L training process in `scikit-learn`\n",
    "\n",
    "  - Consistent API for `scikit-learn` classes\n",
    "    - `fit`\n",
    "    - `transform`\n",
    "    - `predict`\n",
    "    - `fit_transform` for transformations\n",
    "    - `fit_predict` for clustering\n",
    "    - `score` for classification and regression\n",
    "    - `get_params`\n",
    "    - `set_params`\n",
    "  - [Feature extraction]((http://scikit-learn.org/stable/modules/feature_extraction.html))\n",
    "    - Domain knowledge useful\n",
    "    - Consider augmenting with external data sources\n",
    "    - More specialized tools\n",
    "      - [From natural language](http://www.nltk.org)\n",
    "      - [From images](http://scikit-image.org)\n",
    "      - [From images/video](http://opencv.org)\n",
    "      - [Image feature augmentation](https://keras.io/preprocessing/image/)\n",
    "      - [From audio](https://github.com/tyiannak/pyAudioAnalysis)\n",
    "  - [Normalize/scale features](http://scikit-learn.org/stable/modules/preprocessing.html)\n",
    "      - Necessary for methods based on measures of distance\n",
    "      - Most commonly\n",
    "      - **Note**: Must apply same scaling to training and test data\n",
    "  - [Feature selection](http://scikit-learn.org/dev/modules/feature_selection.html)\n",
    "    - **Note**: Include feature selection in a pipeline\n",
    "  - [Model selection/evaluation](http://scikit-learn.org/stable/model_selection.html)\n",
    "  "
   ]
  },
  {
   "cell_type": "markdown",
   "metadata": {},
   "source": [
    "## Example\n",
    "\n",
    "This example is only meant to show the mechanics of using `scikit-learn`. "
   ]
  },
  {
   "cell_type": "code",
   "execution_count": 3,
   "metadata": {
    "collapsed": true
   },
   "outputs": [],
   "source": [
    "from sklearn.preprocessing import PolynomialFeatures, StandardScaler\n",
    "from sklearn.feature_selection import VarianceThreshold\n",
    "from sklearn.model_selection import train_test_split, GridSearchCV\n",
    "from sklearn.linear_model import RidgeClassifierCV\n",
    "from sklearn.ensemble import RandomForestClassifier\n",
    "from sklearn.metrics import classification_report\n",
    "from sklearn.pipeline import Pipeline"
   ]
  },
  {
   "cell_type": "code",
   "execution_count": 4,
   "metadata": {
    "collapsed": true
   },
   "outputs": [],
   "source": [
    "import pandas as pd"
   ]
  },
  {
   "cell_type": "markdown",
   "metadata": {},
   "source": [
    "###  Get data"
   ]
  },
  {
   "cell_type": "code",
   "execution_count": null,
   "metadata": {
    "collapsed": false
   },
   "outputs": [],
   "source": []
  },
  {
   "cell_type": "markdown",
   "metadata": {},
   "source": [
    "### Plot data"
   ]
  },
  {
   "cell_type": "code",
   "execution_count": null,
   "metadata": {
    "collapsed": false
   },
   "outputs": [],
   "source": []
  },
  {
   "cell_type": "markdown",
   "metadata": {},
   "source": [
    "### Feature extraction"
   ]
  },
  {
   "cell_type": "markdown",
   "metadata": {},
   "source": [
    "#### Split labels and features as plain `numpy`  arrays"
   ]
  },
  {
   "cell_type": "code",
   "execution_count": null,
   "metadata": {
    "collapsed": false
   },
   "outputs": [],
   "source": []
  },
  {
   "cell_type": "markdown",
   "metadata": {},
   "source": [
    "#### Generate polynomial (interaction) features "
   ]
  },
  {
   "cell_type": "code",
   "execution_count": null,
   "metadata": {
    "collapsed": true
   },
   "outputs": [],
   "source": []
  },
  {
   "cell_type": "markdown",
   "metadata": {},
   "source": [
    "#### Scale features to have zero mean and unit standard deviation"
   ]
  },
  {
   "cell_type": "code",
   "execution_count": null,
   "metadata": {
    "collapsed": true
   },
   "outputs": [],
   "source": []
  },
  {
   "cell_type": "markdown",
   "metadata": {},
   "source": [
    "#### Select \"useful\" features"
   ]
  },
  {
   "cell_type": "code",
   "execution_count": null,
   "metadata": {
    "collapsed": true
   },
   "outputs": [],
   "source": []
  },
  {
   "cell_type": "markdown",
   "metadata": {},
   "source": [
    "#### Split into training and test sets"
   ]
  },
  {
   "cell_type": "code",
   "execution_count": null,
   "metadata": {
    "collapsed": true
   },
   "outputs": [],
   "source": []
  },
  {
   "cell_type": "markdown",
   "metadata": {},
   "source": [
    "#### Train an estimator"
   ]
  },
  {
   "cell_type": "code",
   "execution_count": null,
   "metadata": {
    "collapsed": true
   },
   "outputs": [],
   "source": []
  },
  {
   "cell_type": "markdown",
   "metadata": {},
   "source": [
    "#### Evaluate estimator"
   ]
  },
  {
   "cell_type": "code",
   "execution_count": null,
   "metadata": {
    "collapsed": true
   },
   "outputs": [],
   "source": []
  },
  {
   "cell_type": "markdown",
   "metadata": {},
   "source": [
    "#### Putting it all together in a pipeline"
   ]
  },
  {
   "cell_type": "code",
   "execution_count": null,
   "metadata": {
    "collapsed": true
   },
   "outputs": [],
   "source": []
  },
  {
   "cell_type": "markdown",
   "metadata": {},
   "source": [
    "#### Alternative pipeline"
   ]
  },
  {
   "cell_type": "code",
   "execution_count": null,
   "metadata": {
    "collapsed": true
   },
   "outputs": [],
   "source": []
  },
  {
   "cell_type": "markdown",
   "metadata": {},
   "source": [
    "#### Getting detailed information from pipeline"
   ]
  },
  {
   "cell_type": "code",
   "execution_count": null,
   "metadata": {
    "collapsed": true
   },
   "outputs": [],
   "source": []
  }
 ],
 "metadata": {
  "kernelspec": {
   "display_name": "Python 3",
   "language": "python",
   "name": "python3"
  },
  "language_info": {
   "codemirror_mode": {
    "name": "ipython",
    "version": 3
   },
   "file_extension": ".py",
   "mimetype": "text/x-python",
   "name": "python",
   "nbconvert_exporter": "python",
   "pygments_lexer": "ipython3",
   "version": "3.5.2"
  },
  "latex_envs": {
   "bibliofile": "biblio.bib",
   "cite_by": "apalike",
   "current_citInitial": 1,
   "eqLabelWithNumbers": true,
   "eqNumInitial": 0
  }
 },
 "nbformat": 4,
 "nbformat_minor": 2
}
