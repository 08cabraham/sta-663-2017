{
 "cells": [
  {
   "cell_type": "code",
   "execution_count": 1,
   "metadata": {
    "collapsed": true
   },
   "outputs": [],
   "source": [
    "%matplotlib inline"
   ]
  },
  {
   "cell_type": "code",
   "execution_count": 2,
   "metadata": {
    "collapsed": true
   },
   "outputs": [],
   "source": [
    "import matplotlib.pyplot as plt"
   ]
  },
  {
   "cell_type": "markdown",
   "metadata": {},
   "source": [
    "# Functions, loops and branching\n",
    "\n",
    "The following exercises let you practice Python syntax. Do not use any packages not in the [standard library](https://docs.python.org/3/library/) except for `matplotlib.pyplot` which has been imported for you.\n",
    "\n",
    "If you have not done much programming, these exercises will be challenging. Don't give up!"
   ]
  },
  {
   "cell_type": "markdown",
   "metadata": {},
   "source": [
    "**1**. Grading (20 points)\n",
    "\n",
    "- Write a function to assign grades to a student such that \n",
    "```\n",
    "A = [90 - 100]\n",
    "B = [80 - 90)\n",
    "C = [65 - 80)\n",
    "D = [0, 65]\n",
    "```\n",
    "\n",
    "where square brackets indicate inclusive boundaries and parentheses indicate exclusive boundaries. However, studens whose attendance is 12 days or fewer get their grade reduced by one (A to B, B to C, C to D, and D stays D). The function should take a score and an attendance as an argument and return A, B, C or D as appropriate.(10 points)\n",
    "- Count the number of students with each grade from the given scores. (10 points)"
   ]
  },
  {
   "cell_type": "code",
   "execution_count": 3,
   "metadata": {
    "collapsed": false
   },
   "outputs": [],
   "source": [
    "scores = [ 84,  76,  67,  23,  83,  23,  50, 100,  32,  84,  22,  41,  27,\n",
    "        29,  71,  85,  47,  77,  39,  25,  85,  69,  22,  66, 100,  92,\n",
    "        97,  46,  81,  88,  67,  20,  52,  62,  39,  36,  79,  54,  74,\n",
    "        64,  33,  68,  85,  69,  84,  30,  68, 100,  71,  33,  21,  95,\n",
    "        92,  72,  53,  50,  31,  82,  53,  68,  49,  37,  40,  21,  94,\n",
    "        30,  54,  58,  92,  95,  73,  80,  81,  56,  44,  22,  69,  70,\n",
    "        25,  50,  59,  32,  65,  79,  27,  62,  27,  31,  78,  88,  68,\n",
    "        53,  79,  69,  89,  38,  80,  55,  92,  55]\n",
    "\n",
    "attendances = [17, 19, 21, 14, 10, 20, 14,  9,  6, 21,  5, 23, 21,  4,  5, 21, 20,\n",
    "        2, 14, 14, 21, 22,  3,  0, 11,  0,  0,  4, 20, 14, 23, 16, 24,  5,\n",
    "       12, 11, 22, 20, 15, 23,  0, 20, 20,  6,  4, 14,  6, 18, 17,  0, 18,\n",
    "        6,  3, 19, 24,  7,  9, 15, 18, 10,  2, 15, 21,  2,  9, 21, 20, 11,\n",
    "       24, 23, 14, 22,  4, 12,  7, 19,  6, 18, 23,  6, 14,  6,  1, 12,  7,\n",
    "       11, 22, 21,  7, 22, 24,  4, 10, 17, 21, 15,  0, 20,  3, 20]"
   ]
  },
  {
   "cell_type": "code",
   "execution_count": null,
   "metadata": {
    "collapsed": true
   },
   "outputs": [],
   "source": [
    "# Your answer here\n",
    "\n",
    "\n",
    "\n"
   ]
  },
  {
   "cell_type": "markdown",
   "metadata": {},
   "source": [
    "**2**. The period doubling route to chaos. (25 points)\n",
    "\n",
    "- Write a function $f(x, r) = rx(1-x)$ where $r$ is some real number. What is the value of $f(0.3, 2)$? (5 points)\n",
    "- Using a for loop that increments the value of $r$ from 0.1 to 4.0 in steps of 0.1, save the last 50 terms in the iterated sequence $x_{n+1} = f(x_n, r)$ stopping at $x_{1000}$ for each value of $r$. Use $x_0 = 0.13$ for each value of $r$(10 points)\n",
    "- Make a scatter plot of each $(r, x)$ value with $r$ on the horizontal axis and $x$ on the vertical axis. Use the `plt.scatter` function with `s=1` to make the plot. (10 points)"
   ]
  },
  {
   "cell_type": "code",
   "execution_count": 6,
   "metadata": {
    "collapsed": true
   },
   "outputs": [],
   "source": [
    "# Your answer here\n",
    "\n",
    "\n",
    "\n"
   ]
  },
  {
   "cell_type": "code",
   "execution_count": 7,
   "metadata": {
    "collapsed": true
   },
   "outputs": [],
   "source": [
    "def f(x, r):\n",
    "    \"\"\"The discrete logistic function.\"\"\"\n",
    "    \n",
    "    return r*x*(1-x)"
   ]
  },
  {
   "cell_type": "code",
   "execution_count": 8,
   "metadata": {
    "collapsed": false
   },
   "outputs": [
    {
     "data": {
      "text/plain": [
       "0.42"
      ]
     },
     "execution_count": 8,
     "metadata": {},
     "output_type": "execute_result"
    }
   ],
   "source": [
    "f(0.3, 2)"
   ]
  },
  {
   "cell_type": "code",
   "execution_count": 9,
   "metadata": {
    "collapsed": false
   },
   "outputs": [
    {
     "data": {
      "image/png": "[encoded data removed]",
      "text/plain": [
       "<matplotlib.figure.Figure at 0x7fef59ca61d0>"
      ]
     },
     "metadata": {},
     "output_type": "display_data"
    }
   ],
   "source": [
    "xs = []\n",
    "rs = []\n",
    "for i in range(1, 41):\n",
    "    r = i/10.0\n",
    "    x = 0.13\n",
    "    for j in range(1001 - 50):\n",
    "        x = f(x, r)\n",
    "    for j in range(50):\n",
    "        x = f(x, r)\n",
    "        xs.append(x)\n",
    "        rs.append(r)\n",
    "\n",
    "plt.scatter(rs, xs, s=1)\n",
    "pass"
   ]
  },
  {
   "cell_type": "markdown",
   "metadata": {},
   "source": [
    "**3**. Digit product sequences. (25 points)\n",
    "\n",
    "A digit product sequence starts with a number $n_1$, then the ith number, $n_i$ in the sequence is obtained by multiplying the non-zero digits of $n_{i-1}$ and adding that product to $n_{i-1}$. For example, if $n_1$ is 1, we have\n",
    "\n",
    "```\n",
    "1, 2, 4, 8, 16, 22, 26, 38, ...\n",
    "```\n",
    "\n",
    "- Find the first 100 numbers in the sequence above. Print out the first 10. (10 points)\n",
    "- Choose a starting $n_1$ different from 1 and generate its sequence. At some point, this new sequence will become identical with the sequence starting from 1 (this is known as joining). For $n_1 = 2$, joining occurs trivially at position 1 (counting from 0) of the 1-sequence. For $n_1 = 3$, the sequence is \n",
    "\n",
    "```\n",
    "3, 6, 12, 14, 18, 26, 38, 62, 74, 102, ...\n",
    "```\n",
    "\n",
    "and we see that the number 26 joins at position 6. Find the join value and position for sequences starting with 19. (15 points)"
   ]
  },
  {
   "cell_type": "code",
   "execution_count": 13,
   "metadata": {
    "collapsed": false
   },
   "outputs": [],
   "source": [
    "# Your answer here\n",
    "\n",
    "\n",
    "\n"
   ]
  },
  {
   "cell_type": "code",
   "execution_count": 10,
   "metadata": {
    "collapsed": false
   },
   "outputs": [],
   "source": [
    "def digits(n):\n",
    "    \"\"\"Return the elements of n in a list.\"\"\"\n",
    "    q, r = divmod(n, 10)\n",
    "    ds = [r]\n",
    "    while q != 0:\n",
    "        q, r = divmod(q, 10)\n",
    "        ds.append(r)\n",
    "    return ds"
   ]
  },
  {
   "cell_type": "code",
   "execution_count": 11,
   "metadata": {
    "collapsed": true
   },
   "outputs": [],
   "source": [
    "def dps(n, k):\n",
    "    \"\"\"Return digit product sequence of length k starting with n.\"\"\"\n",
    "    seq = [n]\n",
    "    for i in range(k):\n",
    "        prod = 1\n",
    "        for d in [i for i in digits(n) if i != 0]:\n",
    "            prod *= d\n",
    "        n = n + prod\n",
    "        seq.append(n)\n",
    "    return seq"
   ]
  },
  {
   "cell_type": "code",
   "execution_count": 12,
   "metadata": {
    "collapsed": false
   },
   "outputs": [
    {
     "name": "stdout",
     "output_type": "stream",
     "text": [
      "[1, 2, 4, 8, 16, 22, 26, 38, 62, 74]\n"
     ]
    }
   ],
   "source": [
    "s1 = dps(1, 10000)\n",
    "print(s1[:10])"
   ]
  },
  {
   "cell_type": "code",
   "execution_count": 48,
   "metadata": {
    "collapsed": false
   },
   "outputs": [
    {
     "name": "stdout",
     "output_type": "stream",
     "text": [
      "26 6\n"
     ]
    }
   ],
   "source": [
    "s3 = dps(3, 100)\n",
    "for s in s3:\n",
    "    if s in s1:\n",
    "        print(s, s1.index(s))\n",
    "        break"
   ]
  },
  {
   "cell_type": "code",
   "execution_count": 49,
   "metadata": {
    "collapsed": false
   },
   "outputs": [
    {
     "name": "stdout",
     "output_type": "stream",
     "text": [
      "102 10\n"
     ]
    }
   ],
   "source": [
    "s11 = dps(19, 100)\n",
    "for s in s11:\n",
    "    if s in s1:\n",
    "        print(s, s1.index(s))\n",
    "        break"
   ]
  },
  {
   "cell_type": "markdown",
   "metadata": {},
   "source": [
    "**4**. The E. coli genome. (30 points)\n",
    "\n",
    "- Write a program to download the [E. coli genomic sequence in FASTA format](https://www.genome.wisc.edu/pub/sequence/U00096.2.fas) (5 points)\n",
    "- Open the downloaded file and read the entire sequence into a single string variable called `seq`, discarding the header information. Also remove any newline characters `\\n` from `seq`. Print the first 100 letters in `seq` (10 points)\n",
    "- Find and report the starting index (counting from zero) and length of the longest contiguous sequence of any nucleotide in `seq`. If there are ties, report the starting index and length of the last contiguous sequence found. For example, in `ATGACCCCCG` the longest contiguous sequence is `CCCC` which starts at index 4 and has length 5. (15 points)"
   ]
  },
  {
   "cell_type": "code",
   "execution_count": 14,
   "metadata": {
    "collapsed": true
   },
   "outputs": [],
   "source": [
    "# Your answer here\n",
    "\n",
    "\n",
    "\n"
   ]
  },
  {
   "cell_type": "code",
   "execution_count": 15,
   "metadata": {
    "collapsed": false
   },
   "outputs": [
    {
     "data": {
      "text/plain": [
       "('ecoli.fas', <http.client.HTTPMessage at 0x7fef57820160>)"
      ]
     },
     "execution_count": 15,
     "metadata": {},
     "output_type": "execute_result"
    }
   ],
   "source": [
    "import urllib.request\n",
    "\n",
    "url = \"https://www.genome.wisc.edu/pub/sequence/U00096.2.fas\"\n",
    "\n",
    "filename = 'ecoli.fas'\n",
    "urllib.request.urlretrieve(url, filename)"
   ]
  },
  {
   "cell_type": "code",
   "execution_count": 16,
   "metadata": {
    "collapsed": false
   },
   "outputs": [
    {
     "data": {
      "text/plain": [
       "'agcttttcattctgactgcaacgggcaatatgtctctgtgtggattaaaaaaagagtgtctgatagcagcttctgaactggttacctgccgtgagtaaat'"
      ]
     },
     "execution_count": 16,
     "metadata": {},
     "output_type": "execute_result"
    }
   ],
   "source": [
    "with open(filename) as f:\n",
    "    lines = f.readlines()\n",
    "seq = ''.join([line.strip() for line in lines[1:]])\n",
    "seq[:100]"
   ]
  },
  {
   "cell_type": "code",
   "execution_count": 18,
   "metadata": {
    "collapsed": false
   },
   "outputs": [],
   "source": [
    "def running(seq):\n",
    "    \"\"\"Find starting location and length of the last longest continuous sequence of elements in seq.\"\"\"\n",
    "    ref = seq[0]\n",
    "    count = 0\n",
    "    best = 0\n",
    "    idx = 0\n",
    "    for i in range(1, len(seq)):\n",
    "        current = seq[i]\n",
    "        if current == ref:\n",
    "            count += 1\n",
    "            if count > best:\n",
    "                best = count\n",
    "                idx = i\n",
    "        else:\n",
    "            ref = current\n",
    "            count = 0\n",
    "    return (idx - best, best + 1)"
   ]
  },
  {
   "cell_type": "code",
   "execution_count": 69,
   "metadata": {
    "collapsed": false
   },
   "outputs": [
    {
     "data": {
      "text/plain": [
       "(4, 5)"
      ]
     },
     "execution_count": 69,
     "metadata": {},
     "output_type": "execute_result"
    }
   ],
   "source": [
    "s = 'ATGACCCCCG'\n",
    "running(s)"
   ]
  },
  {
   "cell_type": "code",
   "execution_count": 70,
   "metadata": {
    "collapsed": false
   },
   "outputs": [
    {
     "data": {
      "text/plain": [
       "(379236, 10)"
      ]
     },
     "execution_count": 70,
     "metadata": {},
     "output_type": "execute_result"
    }
   ],
   "source": [
    "running(seq)"
   ]
  }
 ],
 "metadata": {
  "kernelspec": {
   "display_name": "Python 3",
   "language": "python",
   "name": "python3"
  },
  "language_info": {
   "codemirror_mode": {
    "name": "ipython",
    "version": 3
   },
   "file_extension": ".py",
   "mimetype": "text/x-python",
   "name": "python",
   "nbconvert_exporter": "python",
   "pygments_lexer": "ipython3",
   "version": "3.5.2"
  },
  "latex_envs": {
   "bibliofile": "biblio.bib",
   "cite_by": "apalike",
   "current_citInitial": 1,
   "eqLabelWithNumbers": true,
   "eqNumInitial": 0
  }
 },
 "nbformat": 4,
 "nbformat_minor": 1
}
